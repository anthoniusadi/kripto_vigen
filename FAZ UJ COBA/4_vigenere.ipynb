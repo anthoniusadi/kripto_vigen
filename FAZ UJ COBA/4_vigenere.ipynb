{
 "metadata": {
  "language_info": {
   "codemirror_mode": {
    "name": "ipython",
    "version": 3
   },
   "file_extension": ".py",
   "mimetype": "text/x-python",
   "name": "python",
   "nbconvert_exporter": "python",
   "pygments_lexer": "ipython3",
   "version": "3.7.4-final"
  },
  "orig_nbformat": 2,
  "kernelspec": {
   "name": "python3",
   "display_name": "Python 3"
  }
 },
 "nbformat": 4,
 "nbformat_minor": 2,
 "cells": [
  {
   "source": [
    "# Vigenere cipher\n",
    "\n",
    "Pada notebook kali ini, kita akan mencoba mengimplementasikan algoritma cipher Vigenere dengan menggunakan python.\n",
    "Vigenere cipher adalah salah satu jenis cipher polyalphabetic."
   ],
   "cell_type": "markdown",
   "metadata": {}
  },
  {
   "source": [
    "## Fungsi-fungsi pendukung\n",
    "\n",
    "Kita akan membuat 3 buah fungsi: \n",
    "- yang pertama adalah implementasi algoritma umum dari cipher Vigenere (nama fungsi: `__encDec`), fungsi ini akan dipanggil oleh fungsi enkripsi dan dekripsi\n",
    "- kedua adalah fungsi enkripsi (`encrypt`): ini fungsi yang dipanggil jika user ingin mengenkripsi suatu plaintext\n",
    "- ketiga adalah fungsi dekripsi (`decrypt`): ini fungsi yang dipanggil jika user ingin mendekripsi suatu ciphertext"
   ],
   "cell_type": "markdown",
   "metadata": {}
  },
  {
   "source": [
    "### __encDec\n",
    "Fungsi ini memiliki empat parameter:\n",
    "\n",
    "1. `alphabet`: ini adalah alfabet yang dikenali oleh cipher ini\n",
    "2. `key`: ini adalah kata kunci yang akan dipakai untuk enkripsi/dekripsi\n",
    "3. `text`: plaintext/ciphertext tergantung konteks kegiatannya\n",
    "4. `isEncrypt`: ini untuk membedakan antara kegiatan enkripsi dengan dekripsi. Bernilai `1` jika enkripsi dan `-1` jika dekripsi"
   ],
   "cell_type": "markdown",
   "metadata": {}
  },
  {
   "cell_type": "code",
   "execution_count": 1,
   "metadata": {},
   "outputs": [],
   "source": [
    "def __encDec(alphabet, key, text, isEncrypt):\n",
    "    ans = \"\"\n",
    "    if not isinstance(key, str):\n",
    "        raise Exception(\"Key must be string\")\n",
    "    \n",
    "    for i in range(len(text)):\n",
    "        char = text[i]\n",
    "        keychar = key[i % len(key)]\n",
    "        try:\n",
    "            alphIndex = alphabet.index(char)\n",
    "        except ValueError:\n",
    "            wrchar = char.encode('utf-8')\n",
    "            raise Exception(\"Can't find char '\" + wrchar + \"' of text in alphabet!\")\n",
    "        try:\n",
    "            alphIndex += isEncrypt * alphabet.index(keychar)\n",
    "        except ValueError:\n",
    "            wrchar = keychar.encode('utf-8')\n",
    "            raise Exception(\"Can't find char '\" + wrchar + \"' of text in alphabet!\")\n",
    "        alphIndex %= len(alphabet)\n",
    "        ans += alphabet[alphIndex]\n",
    "    return ans"
   ]
  },
  {
   "source": [
    "### encrypt\n",
    "Fungsi ini hanya memanggil fungsi `__encDec` dengan isi parameter `isEncrypt` adalah `1`. Nilai parameter `alphabet`, secara default, diisi dengan `\"abcdefghijklmnopqrstuvwxyzABCDEFGHIJKLMNOPQRSTUVWXYZ \"` untuk memudahkan pemanggilan fungsi, sehingga user tidak perlu mengisinya (kecuali jika memang menginginkan proses enkripsi hanya menggunakan alfabet tertentu saja)."
   ],
   "cell_type": "markdown",
   "metadata": {}
  },
  {
   "cell_type": "code",
   "execution_count": 2,
   "metadata": {},
   "outputs": [],
   "source": [
    "def encrypt(text, key, alphabet=u\"abcdefghijklmnopqrstuvwxyzABCDEFGHIJKLMNOPQRSTUVWXYZ \"):\n",
    "    return __encDec(alphabet, key, text, 1)"
   ]
  },
  {
   "source": [
    "### decrypt\n",
    "Fungsi ini hanya memanggil fungsi `__encDec` dengan isi parameter `isEncrypt` adalah `-1`. Nilai parameter `alphabet`, secara default, diisi dengan `\"abcdefghijklmnopqrstuvwxyzABCDEFGHIJKLMNOPQRSTUVWXYZ \"` untuk memudahkan pemanggilan fungsi, sehingga user tidak perlu mengisinya (kecuali jika memang menginginkan proses dekripsi hanya menggunakan alfabet tertentu saja)."
   ],
   "cell_type": "markdown",
   "metadata": {}
  },
  {
   "cell_type": "code",
   "execution_count": 3,
   "metadata": {},
   "outputs": [],
   "source": [
    "def decrypt(text, key, alphabet=u\"abcdefghijklmnopqrstuvwxyzABCDEFGHIJKLMNOPQRSTUVWXYZ \"):\n",
    "    return __encDec(alphabet, key, text, -1)"
   ]
  },
  {
   "source": [
    "## Pengujian\n",
    "Sekarang kita akan coba uji fungsi-fungsi yang sudah kita buat tadi. Sekalian kita akan menghitung waktu yang diperlukan untuk melakukan kegiatan terkait."
   ],
   "cell_type": "markdown",
   "metadata": {}
  },
  {
   "source": [
    "### Enkripsi"
   ],
   "cell_type": "markdown",
   "metadata": {}
  },
  {
   "cell_type": "code",
   "execution_count": 5,
   "metadata": {},
   "outputs": [
    {
     "output_type": "stream",
     "name": "stdout",
     "text": [
      "Hasil enkripsi Vigenere dari \"Hello world\" adalah \"YeslGhwFrsd\"\nWaktu eksekusi proses enkripsi adalah 0.00042611699996086827 detik\n"
     ]
    }
   ],
   "source": [
    "import time # library ini akan kita pakai untuk mengukur waktu eksekusi\n",
    "\n",
    "plaintext = 'Hello world'\n",
    "kunci = \"rahasia\"\n",
    "\n",
    "time_start = time.perf_counter()\n",
    "ciphertext = encrypt(plaintext, kunci)\n",
    "time_stop = time.perf_counter()\n",
    "\n",
    "# kita tampilkan hasilnya\n",
    "print('Hasil enkripsi Vigenere dari \"{}\" adalah \"{}\"'.format(plaintext, ciphertext))\n",
    "print('Waktu eksekusi proses enkripsi adalah {} detik'.format(time_stop - time_start))"
   ]
  },
  {
   "source": [
    "### Dekripsi\n",
    "Kita akan dekripsi `ciphertext` yang sudah kita hasilkan pada proses enkripsi tadi."
   ],
   "cell_type": "markdown",
   "metadata": {}
  },
  {
   "cell_type": "code",
   "execution_count": 7,
   "metadata": {},
   "outputs": [
    {
     "output_type": "stream",
     "name": "stdout",
     "text": [
      "Hasil dekripsi Vigenere dari \"YeslGhwFrsd\" adalah \"Hello world\"\nWaktu eksekusi proses dekripsi adalah 0.00021006999998007814 detik\n"
     ]
    }
   ],
   "source": [
    "time_start = time.perf_counter()\n",
    "plaintext_restore = decrypt(ciphertext, kunci)\n",
    "time_stop = time.perf_counter()\n",
    "\n",
    "# kita tampilkan hasilnya\n",
    "print('Hasil dekripsi Vigenere dari \"{}\" adalah \"{}\"'.format(ciphertext, plaintext_restore))\n",
    "print('Waktu eksekusi proses dekripsi adalah {} detik'.format(time_stop - time_start))"
   ]
  },
  {
   "cell_type": "code",
   "execution_count": null,
   "metadata": {},
   "outputs": [],
   "source": []
  }
 ]
}